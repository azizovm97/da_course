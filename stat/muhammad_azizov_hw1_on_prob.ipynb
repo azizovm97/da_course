{
 "cells": [
  {
   "cell_type": "markdown",
   "id": "e8f9e392-b530-45ba-98ab-8b257408c38d",
   "metadata": {},
   "source": [
    "# Домашнее задание по теории вероятности\n",
    "## Азизов Мухаммад"
   ]
  },
  {
   "cell_type": "code",
   "execution_count": 7,
   "id": "a63e6fbc-56b2-4c53-bcf7-14a004b4fbb7",
   "metadata": {},
   "outputs": [],
   "source": [
    "import numpy as np\n",
    "import pandas as pd\n",
    "import random"
   ]
  },
  {
   "cell_type": "markdown",
   "id": "2503fcd5-ade8-4c1f-81ce-0f6046cb6abc",
   "metadata": {},
   "source": [
    "#### 1.В колоде 52 карты. Мы решили вытащить из неё одну карту. Какова вероятность того, что это будет туз?"
   ]
  },
  {
   "cell_type": "code",
   "execution_count": 3,
   "id": "bd998f1a-496c-449b-b892-31433bc6975e",
   "metadata": {},
   "outputs": [
    {
     "name": "stdout",
     "output_type": "stream",
     "text": [
      "Вероятность того, что вытащенная карта будет тузом: 0.08\n"
     ]
    }
   ],
   "source": [
    "total_cards = 52\n",
    "number_of_aces = 4\n",
    "\n",
    "probability_of_ace = number_of_aces / total_cards\n",
    "\n",
    "print(f\"Вероятность того, что вытащенная карта будет тузом: {np.round(probability_of_ace,2)}\")"
   ]
  },
  {
   "cell_type": "markdown",
   "id": "99daecad-4c28-4f8b-bc3a-c98d686badd4",
   "metadata": {},
   "source": [
    "#### 2.Какова вероятность того что у трёх случайно выбранных людей будет одинаковая группа крови? Подсказка: для решения этой задачи нужно использовать как правило умножения так и правило сложения."
   ]
  },
  {
   "cell_type": "code",
   "execution_count": 5,
   "id": "b2221bf9-796c-4df2-9937-e9cf403de1fb",
   "metadata": {},
   "outputs": [
    {
     "name": "stdout",
     "output_type": "stream",
     "text": [
      "Вероятность того, что у трёх случайно выбранных людей будет одинаковая группа крови: 0.1603\n"
     ]
    }
   ],
   "source": [
    "prob_O = 0.44\n",
    "prob_A = 0.42\n",
    "prob_B = 0.10\n",
    "prob_AB = 0.04\n",
    "\n",
    "prob_same_blood_group = (prob_O ** 3) + (prob_A ** 3) + (prob_B ** 3) + (prob_AB ** 3)\n",
    "\n",
    "print(f\"Вероятность того, что у трёх случайно выбранных людей будет одинаковая группа крови: {np.round(prob_same_blood_group, 4)}\")"
   ]
  },
  {
   "cell_type": "markdown",
   "id": "32c37507-c78c-4c06-ace9-92f13b43fe90",
   "metadata": {},
   "source": [
    "#### 3. Студент, сдаёт тест состоящий из 30 вопросов с четырьмя вариантами ответов, из которых лишь один правильный. Так как он вообще не посещал лекции, он просто наугад выбирает один из вариантов для каждого вопроса. Какова вероятность что он правильно ответит хотя бы на один вопрос?"
   ]
  },
  {
   "cell_type": "code",
   "execution_count": 6,
   "id": "ad1886b8-2228-4b36-8946-f8fe9563a05c",
   "metadata": {},
   "outputs": [
    {
     "name": "stdout",
     "output_type": "stream",
     "text": [
      "Вероятность того, что студент ответит правильно хотя бы на один вопрос: 0.99982141790983\n"
     ]
    }
   ],
   "source": [
    "def probability_at_least_one_correct():\n",
    "    prob_incorrect = 3 / 4\n",
    "    prob_all_incorrect = prob_incorrect ** 30\n",
    "    prob_at_least_one_correct = 1 - prob_all_incorrect\n",
    "    return prob_at_least_one_correct\n",
    "\n",
    "print(\"Вероятность того, что студент ответит правильно хотя бы на один вопрос:\", probability_at_least_one_correct())"
   ]
  },
  {
   "cell_type": "markdown",
   "id": "54c0835f-4477-4a4a-b468-fe669fe26e79",
   "metadata": {},
   "source": [
    "#### 4.Какова вероятность что хотя бы у одного из двух случайно выбранных людей месяц рождения такой же как и у вас?"
   ]
  },
  {
   "cell_type": "code",
   "execution_count": 8,
   "id": "e0bf7c71-9cf9-4ecb-95f6-0d059dc899ee",
   "metadata": {},
   "outputs": [
    {
     "name": "stdout",
     "output_type": "stream",
     "text": [
      "Вероятность того, что хотя бы у одного из двух случайно выбранных людей месяц рождения такой же как и у вас: 0.1606\n"
     ]
    }
   ],
   "source": [
    "def birth_month_probability(my_birth_month, trials=100000):\n",
    "    same_month_count = 0\n",
    "    \n",
    "    for _ in range(trials):\n",
    "        person1_month = random.randint(1, 12)\n",
    "        person2_month = random.randint(1, 12)\n",
    "        \n",
    "        if person1_month == my_birth_month or person2_month == my_birth_month:\n",
    "            same_month_count += 1\n",
    "    \n",
    "    probability = same_month_count / trials\n",
    "    return probability\n",
    "\n",
    "my_birth_month = 3\n",
    "probability = birth_month_probability(my_birth_month)\n",
    "print(f\"Вероятность того, что хотя бы у одного из двух случайно выбранных людей месяц рождения такой же как и у вас: {np.round(probability,4)}\")"
   ]
  },
  {
   "cell_type": "markdown",
   "id": "598663ae-80b2-4aa7-870d-506dc07d3006",
   "metadata": {},
   "source": [
    "#### 5.В колоде 52 карты. Мы решили вытащить из неё одну карту. Какова вероятность того что это будет либо валет, либо пиковая карта?"
   ]
  },
  {
   "cell_type": "code",
   "execution_count": 10,
   "id": "6cee56d2-c3c0-40f1-8366-3eee23d599b2",
   "metadata": {},
   "outputs": [
    {
     "name": "stdout",
     "output_type": "stream",
     "text": [
      "Вероятность вытащить либо валета, либо пиковую карту: 0.31\n"
     ]
    }
   ],
   "source": [
    "number_of_cards = 52\n",
    "number_of_jacks = 4\n",
    "number_of_spades = 13\n",
    "number_of_spade_jacks = 1\n",
    "\n",
    "favorable_outcomes = number_of_jacks + number_of_spades - number_of_spade_jacks\n",
    "probability = favorable_outcomes / number_of_cards\n",
    "\n",
    "print(f\"Вероятность вытащить либо валета, либо пиковую карту: {np.round(probability,2)}\")"
   ]
  }
 ],
 "metadata": {
  "kernelspec": {
   "display_name": "Python 3 (ipykernel)",
   "language": "python",
   "name": "python3"
  },
  "language_info": {
   "codemirror_mode": {
    "name": "ipython",
    "version": 3
   },
   "file_extension": ".py",
   "mimetype": "text/x-python",
   "name": "python",
   "nbconvert_exporter": "python",
   "pygments_lexer": "ipython3",
   "version": "3.12.7"
  }
 },
 "nbformat": 4,
 "nbformat_minor": 5
}
