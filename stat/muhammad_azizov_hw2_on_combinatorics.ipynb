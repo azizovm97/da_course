{
 "cells": [
  {
   "cell_type": "markdown",
   "id": "e8f9e392-b530-45ba-98ab-8b257408c38d",
   "metadata": {},
   "source": [
    "# Домашнее задание по комбинаторике\n",
    "## Азизов Мухаммад"
   ]
  },
  {
   "cell_type": "code",
   "execution_count": 3,
   "id": "a63e6fbc-56b2-4c53-bcf7-14a004b4fbb7",
   "metadata": {},
   "outputs": [],
   "source": [
    "import numpy as np\n",
    "import pandas as pd\n",
    "import random\n",
    "import math"
   ]
  },
  {
   "cell_type": "markdown",
   "id": "2503fcd5-ade8-4c1f-81ce-0f6046cb6abc",
   "metadata": {},
   "source": [
    "#### 1.Макс забыл пароль от своего телефона. Пароль состоял из пяти значений, каждое из которых может быть цифрой от 0 до 9. Сколько всего вариантов должен перебрать Макс, чтобы подобрать пароль к своему телефону?"
   ]
  },
  {
   "cell_type": "code",
   "execution_count": 4,
   "id": "bd998f1a-496c-449b-b892-31433bc6975e",
   "metadata": {},
   "outputs": [
    {
     "name": "stdout",
     "output_type": "stream",
     "text": [
      "Макс должен перебрать 100000 вариантов.\n"
     ]
    }
   ],
   "source": [
    "digits = 10\n",
    "length = 5\n",
    "\n",
    "total_variants = digits ** length\n",
    "\n",
    "print(f\"Макс должен перебрать {total_variants} вариантов.\")"
   ]
  },
  {
   "cell_type": "markdown",
   "id": "99daecad-4c28-4f8b-bc3a-c98d686badd4",
   "metadata": {},
   "source": [
    "#### 2.У Малики есть все семь книг серии о Гарри Поттере. Сколькими способами она может расставить эти книги на полке?"
   ]
  },
  {
   "cell_type": "code",
   "execution_count": 5,
   "id": "b2221bf9-796c-4df2-9937-e9cf403de1fb",
   "metadata": {},
   "outputs": [
    {
     "name": "stdout",
     "output_type": "stream",
     "text": [
      "Малика может расставить книги 5040 способами.\n"
     ]
    }
   ],
   "source": [
    "n = 7\n",
    "arrangements = math.factorial(n)\n",
    "\n",
    "print(f\"Малика может расставить книги {arrangements} способами.\")"
   ]
  },
  {
   "cell_type": "markdown",
   "id": "32c37507-c78c-4c06-ace9-92f13b43fe90",
   "metadata": {},
   "source": [
    "#### 3.На окружности круга размещены 9 точек. Сколько можно провести линий, соединяющих эти точки?"
   ]
  },
  {
   "cell_type": "code",
   "execution_count": 6,
   "id": "ad1886b8-2228-4b36-8946-f8fe9563a05c",
   "metadata": {},
   "outputs": [
    {
     "name": "stdout",
     "output_type": "stream",
     "text": [
      "Количество линий: 36\n"
     ]
    }
   ],
   "source": [
    "n = 9\n",
    "lines = n * (n - 1) // 2\n",
    "\n",
    "print(f\"Количество линий: {lines}\")"
   ]
  },
  {
   "cell_type": "markdown",
   "id": "54c0835f-4477-4a4a-b468-fe669fe26e79",
   "metadata": {},
   "source": [
    "#### 4.Транс-Сибирская железнодорожная магистраль тянется от Москвы до Владивостока. Всего, магистраль состоит из 19 станций. На билете указывается станция отбытия и станция пребытия. Сколько всего вариантов билетов существует?"
   ]
  },
  {
   "cell_type": "code",
   "execution_count": 7,
   "id": "e0bf7c71-9cf9-4ecb-95f6-0d059dc899ee",
   "metadata": {},
   "outputs": [
    {
     "name": "stdout",
     "output_type": "stream",
     "text": [
      "Всего вариантов билетов: 342\n"
     ]
    }
   ],
   "source": [
    "n = 19\n",
    "total_tickets = n * (n - 1)\n",
    "\n",
    "print(\"Всего вариантов билетов:\", total_tickets)"
   ]
  },
  {
   "cell_type": "markdown",
   "id": "598663ae-80b2-4aa7-870d-506dc07d3006",
   "metadata": {},
   "source": [
    "#### 5.Вы работаете в команде из 13 человек. Ваш менеджер решает рандомно выбрать 3 человек из команды и отправить на конференцию в Анталию, которая будет длится 4 дня. Какова вероятность того, что вам посчастливится поехать на конференцию?"
   ]
  },
  {
   "cell_type": "code",
   "execution_count": 8,
   "id": "6cee56d2-c3c0-40f1-8366-3eee23d599b2",
   "metadata": {},
   "outputs": [
    {
     "name": "stdout",
     "output_type": "stream",
     "text": [
      "Вероятность быть выбранным: 0.23077\n"
     ]
    }
   ],
   "source": [
    "def combinations(n, r):\n",
    "    if r > n or r < 0:\n",
    "        return 0\n",
    "    numerator = 1\n",
    "    denominator = 1\n",
    "    for i in range(1, r + 1):\n",
    "        numerator *= n\n",
    "        denominator *= i\n",
    "        n -= 1\n",
    "    return numerator // denominator\n",
    "\n",
    "team_size = 13\n",
    "selected_people = 3\n",
    "\n",
    "total_combinations = combinations(team_size, selected_people)\n",
    "you_in_combinations = combinations(team_size - 1, selected_people - 1)\n",
    "probability = you_in_combinations / total_combinations\n",
    "\n",
    "print(f\"Вероятность быть выбранным: {np.round(probability, 5)}\")\n"
   ]
  },
  {
   "cell_type": "code",
   "execution_count": null,
   "id": "a580a0d9-38d6-4176-a72a-5d9f7b241544",
   "metadata": {},
   "outputs": [],
   "source": []
  }
 ],
 "metadata": {
  "kernelspec": {
   "display_name": "Python 3 (ipykernel)",
   "language": "python",
   "name": "python3"
  },
  "language_info": {
   "codemirror_mode": {
    "name": "ipython",
    "version": 3
   },
   "file_extension": ".py",
   "mimetype": "text/x-python",
   "name": "python",
   "nbconvert_exporter": "python",
   "pygments_lexer": "ipython3",
   "version": "3.12.7"
  }
 },
 "nbformat": 4,
 "nbformat_minor": 5
}
