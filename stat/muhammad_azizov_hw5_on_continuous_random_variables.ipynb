{
 "cells": [
  {
   "cell_type": "markdown",
   "id": "e8f9e392-b530-45ba-98ab-8b257408c38d",
   "metadata": {},
   "source": [
    "# ДДомашнее задание по непрерывным случайным величинам\n",
    "## Азизов Мухаммад"
   ]
  },
  {
   "cell_type": "code",
   "execution_count": 2,
   "id": "a63e6fbc-56b2-4c53-bcf7-14a004b4fbb7",
   "metadata": {},
   "outputs": [],
   "source": [
    "import numpy as np\n",
    "import pandas as pd\n",
    "import random\n",
    "from math import factorial\n",
    "import scipy.stats as stats"
   ]
  },
  {
   "cell_type": "markdown",
   "id": "2503fcd5-ade8-4c1f-81ce-0f6046cb6abc",
   "metadata": {},
   "source": [
    "#### 1.Есть переменная X с нормальным распределением. Если стандартизированное значение X равно 1.27 (z = 1.27), то какова вероятность P (Z ≤ 1.27 )"
   ]
  },
  {
   "cell_type": "code",
   "execution_count": 11,
   "id": "bd998f1a-496c-449b-b892-31433bc6975e",
   "metadata": {},
   "outputs": [
    {
     "name": "stdout",
     "output_type": "stream",
     "text": [
      "P(Z ≤ 1.27) = 0.8980\n"
     ]
    }
   ],
   "source": [
    "z1 = 1.27\n",
    "prob1 = stats.norm.cdf(z1)\n",
    "print(f\"P(Z ≤ 1.27) = {prob1:.4f}\")"
   ]
  },
  {
   "cell_type": "markdown",
   "id": "99daecad-4c28-4f8b-bc3a-c98d686badd4",
   "metadata": {},
   "source": [
    "#### 2.Допустим что Z это переменная со стандартным нормальным распределением. Какова вероятность P(-1.76<Z<-1.19 )? "
   ]
  },
  {
   "cell_type": "code",
   "execution_count": 12,
   "id": "b2221bf9-796c-4df2-9937-e9cf403de1fb",
   "metadata": {},
   "outputs": [
    {
     "name": "stdout",
     "output_type": "stream",
     "text": [
      "P(−1.76 < Z < −1.19) = 0.0778\n"
     ]
    }
   ],
   "source": [
    "z_lower, z_upper = -1.76, -1.19\n",
    "prob2 = stats.norm.cdf(z_upper) - stats.norm.cdf(z_lower)\n",
    "print(f\"P(−1.76 < Z < −1.19) = {prob2:.4f}\")"
   ]
  },
  {
   "cell_type": "markdown",
   "id": "32c37507-c78c-4c06-ace9-92f13b43fe90",
   "metadata": {},
   "source": [
    "#### 3. У 95.45% девушек старших классов, вес находится в диапазоне от 38кг до 52кг. Если предположить, что вес девушек распределён нормально, найдите среднее значение и стандартное отклонение. "
   ]
  },
  {
   "cell_type": "code",
   "execution_count": 13,
   "id": "ad1886b8-2228-4b36-8946-f8fe9563a05c",
   "metadata": {},
   "outputs": [
    {
     "name": "stdout",
     "output_type": "stream",
     "text": [
      "Среднее значение (μ) = 45.00, стандартное отклонение (σ) = 3.50\n"
     ]
    }
   ],
   "source": [
    "weight_low, weight_high = 38, 52\n",
    "z_value = 2\n",
    "sigma = (weight_high - weight_low) / (2 * z_value)\n",
    "mu = (weight_high + weight_low) / 2\n",
    "print(f\"Среднее значение (μ) = {mu:.2f}, стандартное отклонение (σ) = {sigma:.2f}\")"
   ]
  },
  {
   "cell_type": "markdown",
   "id": "54c0835f-4477-4a4a-b468-fe669fe26e79",
   "metadata": {},
   "source": [
    "#### 4. Длина указательного пальца взрослых мужчин примерно соответствует нормальному распределению, с  μ=7.5cm и  σ=0.5cm. Какова вероятность того, что длина указательного пальца случайно выбранного мужчины будет в диапазоне от 7.3см до 8,7см?"
   ]
  },
  {
   "cell_type": "code",
   "execution_count": 14,
   "id": "e0bf7c71-9cf9-4ecb-95f6-0d059dc899ee",
   "metadata": {},
   "outputs": [
    {
     "name": "stdout",
     "output_type": "stream",
     "text": [
      "P(7.3 ≤ X ≤ 8.7) = 0.6472\n"
     ]
    }
   ],
   "source": [
    "mu_finger, sigma_finger = 7.5, 0.5\n",
    "prob4 = stats.norm.cdf(8.7, mu_finger, sigma_finger) - stats.norm.cdf(7.3, mu_finger, sigma_finger)\n",
    "print(f\"P(7.3 ≤ X ≤ 8.7) = {prob4:.4f}\")"
   ]
  },
  {
   "cell_type": "markdown",
   "id": "598663ae-80b2-4aa7-870d-506dc07d3006",
   "metadata": {},
   "source": [
    "#### 5. IQ человека является нормально распределённой величиной с μ= 100 и σ=15. Какова вероятность того, что у случайно выбранного человека IQ будет выше 140?  каждой задачи код на питоне"
   ]
  },
  {
   "cell_type": "code",
   "execution_count": 15,
   "id": "6cee56d2-c3c0-40f1-8366-3eee23d599b2",
   "metadata": {},
   "outputs": [
    {
     "name": "stdout",
     "output_type": "stream",
     "text": [
      "P(IQ > 140) = 0.0038\n"
     ]
    }
   ],
   "source": [
    "mu_iq, sigma_iq = 100, 15\n",
    "prob5 = 1 - stats.norm.cdf(140, mu_iq, sigma_iq)\n",
    "print(f\"P(IQ > 140) = {prob5:.4f}\")"
   ]
  }
 ],
 "metadata": {
  "kernelspec": {
   "display_name": "Python 3 (ipykernel)",
   "language": "python",
   "name": "python3"
  },
  "language_info": {
   "codemirror_mode": {
    "name": "ipython",
    "version": 3
   },
   "file_extension": ".py",
   "mimetype": "text/x-python",
   "name": "python",
   "nbconvert_exporter": "python",
   "pygments_lexer": "ipython3",
   "version": "3.12.7"
  }
 },
 "nbformat": 4,
 "nbformat_minor": 5
}
