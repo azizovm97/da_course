{
 "cells": [
  {
   "cell_type": "markdown",
   "id": "e8f9e392-b530-45ba-98ab-8b257408c38d",
   "metadata": {},
   "source": [
    "# Домашнее задание по условной вероятности\n",
    "## Азизов Мухаммад"
   ]
  },
  {
   "cell_type": "code",
   "execution_count": 2,
   "id": "a63e6fbc-56b2-4c53-bcf7-14a004b4fbb7",
   "metadata": {},
   "outputs": [],
   "source": [
    "import numpy as np\n",
    "import pandas as pd\n",
    "import random\n",
    "from math import factorial"
   ]
  },
  {
   "cell_type": "markdown",
   "id": "2503fcd5-ade8-4c1f-81ce-0f6046cb6abc",
   "metadata": {},
   "source": [
    "#### 1.В колоде 52 карты. Вы поочерёдно вытаскиваете из колоды две карты, без возврата. Какова вероятность того, что вы вытащите два туза?"
   ]
  },
  {
   "cell_type": "code",
   "execution_count": 3,
   "id": "bd998f1a-496c-449b-b892-31433bc6975e",
   "metadata": {},
   "outputs": [
    {
     "name": "stdout",
     "output_type": "stream",
     "text": [
      "Вероятность того, что вы вытащите два туза: 0.0045\n"
     ]
    }
   ],
   "source": [
    "def probability_two_aces():\n",
    "    total_cards = 52\n",
    "    prob_ace_1 = 4 / total_cards\n",
    "    prob_ace_2 = 3 / (total_cards - 1)\n",
    "    prob = prob_ace_1 * prob_ace_2\n",
    "    return prob\n",
    "\n",
    "print(f\"Вероятность того, что вы вытащите два туза: {np.round(probability_two_aces(),4)}\")"
   ]
  },
  {
   "cell_type": "markdown",
   "id": "99daecad-4c28-4f8b-bc3a-c98d686badd4",
   "metadata": {},
   "source": [
    "#### 2.Ваш друг просыпается поздно в среднем четыре дня из пяти. Если он просыпается поздно, он опаздывает на работу с вероятностью 70%. Если же он просыпается вовремя, он опаздывает с вероятностью 10%. Какова вероятность того, что ваш друг опоздает на работу?"
   ]
  },
  {
   "cell_type": "code",
   "execution_count": 5,
   "id": "b2221bf9-796c-4df2-9937-e9cf403de1fb",
   "metadata": {},
   "outputs": [
    {
     "name": "stdout",
     "output_type": "stream",
     "text": [
      "Вероятность того, что друг опоздает на работу: 0.5800\n"
     ]
    }
   ],
   "source": [
    "def probability_late_for_work():\n",
    "    prob_late = 4 / 5  \n",
    "    prob_on_time = 1 / 5  \n",
    "    prob_late_given_late = 0.7  \n",
    "    prob_late_given_on_time = 0.1  \n",
    "\n",
    "    prob_late_work = (prob_late_given_late * prob_late) + (prob_late_given_on_time * prob_on_time)\n",
    "    return prob_late_work\n",
    "\n",
    "print(f\"Вероятность того, что друг опоздает на работу: {probability_late_for_work():.4f}\")"
   ]
  },
  {
   "cell_type": "markdown",
   "id": "32c37507-c78c-4c06-ace9-92f13b43fe90",
   "metadata": {},
   "source": [
    "#### 3.В мешке содержатся 3 белых шара, 4 зелёных шара и 5 красных шаров. Вы вытаскиваете поочерёдно два шара из мешка, без возврата. Какова вероятность того, что вы вытащите зелёный и красный шары в любом порядке?"
   ]
  },
  {
   "cell_type": "code",
   "execution_count": 7,
   "id": "ad1886b8-2228-4b36-8946-f8fe9563a05c",
   "metadata": {},
   "outputs": [
    {
     "name": "stdout",
     "output_type": "stream",
     "text": [
      "Вероятность того, что вы вытащите зелёный и красный шары в любом порядке: 0.303\n"
     ]
    }
   ],
   "source": [
    "def probability_green_red_ball():\n",
    "    total_balls = 12\n",
    "    green_balls = 4\n",
    "    red_balls = 5\n",
    "\n",
    "    prob_green_red = (green_balls / total_balls) * (red_balls / (total_balls - 1))\n",
    "    prob_red_green = (red_balls / total_balls) * (green_balls / (total_balls - 1))\n",
    "\n",
    "    prob = prob_green_red + prob_red_green\n",
    "    return prob\n",
    "\n",
    "print(f\"Вероятность того, что вы вытащите зелёный и красный шары в любом порядке: {np.round(probability_green_red_ball(),4)}\")"
   ]
  },
  {
   "cell_type": "markdown",
   "id": "54c0835f-4477-4a4a-b468-fe669fe26e79",
   "metadata": {},
   "source": [
    "#### 4.На фабрике по производству чипсов 98% всех упаковок содержат вкусовые добавки. В рамках испытаний, группе добровольцев было предложено попробовать чипсы и определить имеются ли в них вкусовые добавки. 99% испытуемых попробовав чипсы со вкусовыми добавками ответили \"Да\". При этом, 2.5% испытуемых, которым были поданы чипсы без вкусовых добавок, также ответили \"Да\" . Если попробовав рандомно выбранную упаковку, испытуемый отвечает \"Нет\", какова вероятность того что чипсы действительно не содержат вкусовых добавок?"
   ]
  },
  {
   "cell_type": "code",
   "execution_count": 8,
   "id": "a580a0d9-38d6-4176-a72a-5d9f7b241544",
   "metadata": {},
   "outputs": [
    {
     "name": "stdout",
     "output_type": "stream",
     "text": [
      "Вероятность того, что чипсы действительно не содержат вкусовых добавок: 0.6655\n"
     ]
    }
   ],
   "source": [
    "def probability_no_additives_given_no():\n",
    "    prob_with_additives = 0.98\n",
    "    prob_without_additives = 0.02\n",
    "    prob_yes_given_with_additives = 0.99\n",
    "    prob_yes_given_without_additives = 0.025\n",
    "    prob_no_given_with_additives = 1 - prob_yes_given_with_additives\n",
    "    prob_no_given_without_additives = 1 - prob_yes_given_without_additives\n",
    "\n",
    "    prob_no = (prob_no_given_with_additives * prob_with_additives) + (prob_no_given_without_additives * prob_without_additives)\n",
    "\n",
    "    prob_A_given_no = (prob_no_given_without_additives * prob_without_additives) / prob_no\n",
    "    return prob_A_given_no\n",
    "\n",
    "print(f\"Вероятность того, что чипсы действительно не содержат вкусовых добавок: {probability_no_additives_given_no():.4f}\")"
   ]
  },
  {
   "cell_type": "markdown",
   "id": "598663ae-80b2-4aa7-870d-506dc07d3006",
   "metadata": {},
   "source": [
    "#### 5.Известно что движок некоей модели автомобиля перегревается в 3% случаев. При перегреве движка, в 98% случаев включается индикатор оповещения. Однако, в 1% случаев, индикатор включается без перегрева. Ответьте на следующие вопросы:\n",
    "#### -какова вероятность включения индикатора?\n",
    "#### -если водитель видит включённый индикатор, какова вероятность того что движок действительно перегрелся?"
   ]
  },
  {
   "cell_type": "code",
   "execution_count": 11,
   "id": "35cdfe30-54d4-4120-ad6b-29445092c0db",
   "metadata": {},
   "outputs": [
    {
     "name": "stdout",
     "output_type": "stream",
     "text": [
      "Вероятность включения индикатора: 0.0391\n",
      "Вероятность того, что движок перегрелся, если индикатор включён: 0.7519\n"
     ]
    }
   ],
   "source": [
    "def probability_indicator_and_overheating():\n",
    "    prob_overheating = 0.03\n",
    "    prob_no_overheating = 1 - prob_overheating\n",
    "    prob_indicator_given_overheating = 0.98\n",
    "    prob_indicator_given_no_overheating = 0.01\n",
    "\n",
    "    prob_indicator = (prob_indicator_given_overheating * prob_overheating) + (prob_indicator_given_no_overheating * prob_no_overheating)\n",
    "\n",
    "    prob_overheating_given_indicator = (prob_indicator_given_overheating * prob_overheating) / prob_indicator\n",
    "    return prob_indicator, prob_overheating_given_indicator\n",
    "\n",
    "indicator, overheating_given_indicator = probability_indicator_and_overheating()\n",
    "print(f\"Вероятность включения индикатора: {np.round(indicator,4)}\")\n",
    "print(f\"Вероятность того, что движок перегрелся, если индикатор включён: {np.round(overheating_given_indicator,4)}\")"
   ]
  },
  {
   "cell_type": "code",
   "execution_count": null,
   "id": "0e3fe6a6-768b-4a7b-a4c9-f497f64e59a6",
   "metadata": {},
   "outputs": [],
   "source": []
  }
 ],
 "metadata": {
  "kernelspec": {
   "display_name": "Python 3 (ipykernel)",
   "language": "python",
   "name": "python3"
  },
  "language_info": {
   "codemirror_mode": {
    "name": "ipython",
    "version": 3
   },
   "file_extension": ".py",
   "mimetype": "text/x-python",
   "name": "python",
   "nbconvert_exporter": "python",
   "pygments_lexer": "ipython3",
   "version": "3.12.7"
  }
 },
 "nbformat": 4,
 "nbformat_minor": 5
}
