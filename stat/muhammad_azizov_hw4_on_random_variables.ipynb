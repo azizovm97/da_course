{
 "cells": [
  {
   "cell_type": "markdown",
   "id": "e8f9e392-b530-45ba-98ab-8b257408c38d",
   "metadata": {},
   "source": [
    "# Домашнее задание по дискретным случайным величинам\n",
    "## Азизов Мухаммад"
   ]
  },
  {
   "cell_type": "code",
   "execution_count": 4,
   "id": "a63e6fbc-56b2-4c53-bcf7-14a004b4fbb7",
   "metadata": {},
   "outputs": [],
   "source": [
    "import numpy as np\n",
    "import pandas as pd\n",
    "import random\n",
    "from math import factorial"
   ]
  },
  {
   "cell_type": "markdown",
   "id": "2503fcd5-ade8-4c1f-81ce-0f6046cb6abc",
   "metadata": {},
   "source": [
    "#### 1.Четыре монеты подбрасываются разом. Если переменная X это количество полученных орлов, то чему равен P(X=2)?"
   ]
  },
  {
   "cell_type": "code",
   "execution_count": 5,
   "id": "bd998f1a-496c-449b-b892-31433bc6975e",
   "metadata": {},
   "outputs": [
    {
     "name": "stdout",
     "output_type": "stream",
     "text": [
      "P(X = 2) = 0.375\n"
     ]
    }
   ],
   "source": [
    "def combinations(n, k):\n",
    "    return factorial(n) // (factorial(k) * factorial(n - k))\n",
    "\n",
    "n = 4  \n",
    "k = 2  \n",
    "p = 0.5  \n",
    "\n",
    "probability = combinations(n, k) * (p**k) * ((1 - p)**(n - k))\n",
    "\n",
    "print(f\"P(X = 2) = {probability}\")"
   ]
  },
  {
   "cell_type": "markdown",
   "id": "99daecad-4c28-4f8b-bc3a-c98d686badd4",
   "metadata": {},
   "source": [
    "#### 2.Четыре монеты подбрасываются разом. Если переменная X это количество полученных орлов, то чему равен P(X≥1)?"
   ]
  },
  {
   "cell_type": "code",
   "execution_count": 8,
   "id": "b2221bf9-796c-4df2-9937-e9cf403de1fb",
   "metadata": {},
   "outputs": [
    {
     "name": "stdout",
     "output_type": "stream",
     "text": [
      "P(X >= 1) = 0.9375\n"
     ]
    }
   ],
   "source": [
    "p = 0.5\n",
    "n = 4    \n",
    "\n",
    "P_x_equal_zero = (1 - p)**n\n",
    "P_x_geq_one = 1 - P_x_equal_zero\n",
    "\n",
    "print(f\"P(X >= 1) = {P_x_geq_one}\")"
   ]
  },
  {
   "cell_type": "markdown",
   "id": "32c37507-c78c-4c06-ace9-92f13b43fe90",
   "metadata": {},
   "source": [
    "#### 3.Вероятность того, что у рандомного человека группа крови А составляет 40%. Выберем случайным образом 4 человек и пусть случайная величина X будет количеством людей с типом крови А. Постройте биномиальное распределение этого эксперимента."
   ]
  },
  {
   "cell_type": "code",
   "execution_count": 9,
   "id": "ad1886b8-2228-4b36-8946-f8fe9563a05c",
   "metadata": {},
   "outputs": [
    {
     "name": "stdout",
     "output_type": "stream",
     "text": [
      "P(X = 0) = 0.1296\n",
      "P(X = 1) = 0.3456\n",
      "P(X = 2) = 0.3456\n",
      "P(X = 3) = 0.1536\n",
      "P(X = 4) = 0.0256\n"
     ]
    }
   ],
   "source": [
    "def combinations(n, k):\n",
    "    return factorial(n) // (factorial(k) * factorial(n - k))\n",
    "\n",
    "n = 4\n",
    "p = 0.4\n",
    "distribution = {}\n",
    "\n",
    "for k in range(n + 1):\n",
    "    probability = combinations(n, k) * (p**k) * ((1 - p)**(n - k))\n",
    "    distribution[k] = probability\n",
    "\n",
    "for k, prob in distribution.items():\n",
    "    print(f\"P(X = {k}) = {np.round(prob, 4)}\")"
   ]
  },
  {
   "cell_type": "markdown",
   "id": "54c0835f-4477-4a4a-b468-fe669fe26e79",
   "metadata": {},
   "source": [
    "#### 4.Известно, что на сайте компании в час в среднем происходит 10 продаж. Какова вероятность того что в любой выбранный час количество продаж составит 8 штук?"
   ]
  },
  {
   "cell_type": "code",
   "execution_count": 17,
   "id": "e0bf7c71-9cf9-4ecb-95f6-0d059dc899ee",
   "metadata": {},
   "outputs": [
    {
     "name": "stdout",
     "output_type": "stream",
     "text": [
      "P(X = 8) = 0.1127\n"
     ]
    }
   ],
   "source": [
    "lmbda = 10\n",
    "k = 8 \n",
    "e = 2.718  # приблиpbntkmy значение числа e\n",
    "\n",
    "P = (lmbda**k * (e**(-lmbda))) / factorial(k)\n",
    "\n",
    "print(f\"P(X = {k}) = {round(P, 4)}\")"
   ]
  },
  {
   "cell_type": "markdown",
   "id": "598663ae-80b2-4aa7-870d-506dc07d3006",
   "metadata": {},
   "source": [
    "#### 5.Вы работаете в команде из 13 человек. Ваш менеджер решает рандомно выбрать 3 человек из команды и отправить на конференцию в Анталию, которая будет длится 4 дня. Какова вероятность того, что вам посчастливится поехать на конференцию?"
   ]
  },
  {
   "cell_type": "code",
   "execution_count": 18,
   "id": "6cee56d2-c3c0-40f1-8366-3eee23d599b2",
   "metadata": {},
   "outputs": [
    {
     "name": "stdout",
     "output_type": "stream",
     "text": [
      "P(X = 10) = 0.0639\n"
     ]
    }
   ],
   "source": [
    "def combinations(n, k):\n",
    "    return factorial(n) // (factorial(k) * factorial(n - k))\n",
    "\n",
    "n = 12  \n",
    "p = 0.6  \n",
    "k = 10   \n",
    "\n",
    "probability = combinations(n, k) * (p**k) * ((1 - p)**(n - k))\n",
    "\n",
    "print(f\"P(X = {k}) = {round(probability, 4)}\")"
   ]
  }
 ],
 "metadata": {
  "kernelspec": {
   "display_name": "Python 3 (ipykernel)",
   "language": "python",
   "name": "python3"
  },
  "language_info": {
   "codemirror_mode": {
    "name": "ipython",
    "version": 3
   },
   "file_extension": ".py",
   "mimetype": "text/x-python",
   "name": "python",
   "nbconvert_exporter": "python",
   "pygments_lexer": "ipython3",
   "version": "3.12.7"
  }
 },
 "nbformat": 4,
 "nbformat_minor": 5
}
