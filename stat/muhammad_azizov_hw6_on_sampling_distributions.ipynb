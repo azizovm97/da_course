{
 "cells": [
  {
   "cell_type": "markdown",
   "id": "e8f9e392-b530-45ba-98ab-8b257408c38d",
   "metadata": {},
   "source": [
    "# Домашнее задание по выборочным распределениям\n",
    "## Азизов Мухаммад"
   ]
  },
  {
   "cell_type": "code",
   "execution_count": 11,
   "id": "a63e6fbc-56b2-4c53-bcf7-14a004b4fbb7",
   "metadata": {},
   "outputs": [],
   "source": [
    "import numpy as np\n",
    "import pandas as pd\n",
    "import random\n",
    "from math import factorial\n",
    "import scipy.stats as stats"
   ]
  },
  {
   "cell_type": "markdown",
   "id": "2503fcd5-ade8-4c1f-81ce-0f6046cb6abc",
   "metadata": {},
   "source": [
    "#### 1.Имеется следующая выборка [6, 8, 11, 11, 17, 21, 34, 35, 41, 42, 43, 46, 54, 54, 59, 62], где каждое наблюдение это возраст человека. Какова точечная оценка среднего значения и стандартного отклонения популяции?"
   ]
  },
  {
   "cell_type": "code",
   "execution_count": 12,
   "id": "bd998f1a-496c-449b-b892-31433bc6975e",
   "metadata": {},
   "outputs": [
    {
     "name": "stdout",
     "output_type": "stream",
     "text": [
      "Среднее значение: 34.0, стандартное отклонение: 19.19027531503044\n"
     ]
    }
   ],
   "source": [
    "sample_ages = np.array([6, 8, 11, 11, 17, 21, 34, 35, 41, 42, 43, 46, 54, 54, 59, 62])\n",
    "\n",
    "mean_age = np.mean(sample_ages)\n",
    "std_dev_age = np.std(sample_ages, ddof=1)\n",
    "\n",
    "print(f\"Среднее значение: {mean_age}, стандартное отклонение: {std_dev_age}\")"
   ]
  },
  {
   "cell_type": "markdown",
   "id": "99daecad-4c28-4f8b-bc3a-c98d686badd4",
   "metadata": {},
   "source": [
    "#### 2.24% всех производимых шоколадных драже M&M's красятся в синий цвет. В стандартном пакете чаще всего содержится 17 драже. Какова вероятность, что в купленном вами в магазине пакетике, доля синих драже будет больше 40%?"
   ]
  },
  {
   "cell_type": "code",
   "execution_count": 13,
   "id": "b2221bf9-796c-4df2-9937-e9cf403de1fb",
   "metadata": {},
   "outputs": [
    {
     "name": "stdout",
     "output_type": "stream",
     "text": [
      "Вероятность (доля синих M&M's > 40%): 0.0847\n"
     ]
    }
   ],
   "source": [
    "n_mms = 17\n",
    "p_blue = 0.24\n",
    "mu_mms = n_mms * p_blue\n",
    "sigma_mms = np.sqrt(n_mms * p_blue * (1 - p_blue))\n",
    "\n",
    "x_critical = 7 - 0.5  \n",
    "p_value = 1 - stats.norm.cdf(x_critical, loc=mu_mms, scale=sigma_mms)\n",
    "\n",
    "print(f\"Вероятность (доля синих M&M's > 40%): {p_value:.4f}\")"
   ]
  },
  {
   "cell_type": "markdown",
   "id": "32c37507-c78c-4c06-ace9-92f13b43fe90",
   "metadata": {},
   "source": [
    "#### 3.64 мужчины были выбраны случайным образом и их веса были измерены. Среднее значение выборки составило 84 кг, а стандартное отклонение - 24 кг. Рассчитайте доверительный интервал для среднего значения популяции с 90%-м уровнем доверия"
   ]
  },
  {
   "cell_type": "code",
   "execution_count": 14,
   "id": "ad1886b8-2228-4b36-8946-f8fe9563a05c",
   "metadata": {},
   "outputs": [
    {
     "name": "stdout",
     "output_type": "stream",
     "text": [
      "90% доверительный интервал для среднего веса мужчин: (78.99179333487956, 89.00820666512044)\n"
     ]
    }
   ],
   "source": [
    "n_men = 64\n",
    "mean_weight = 84\n",
    "std_dev_weight = 24\n",
    "t_90 = stats.t.ppf(0.95, df=n_men-1)  \n",
    "\n",
    "ci_men = (mean_weight - t_90 * std_dev_weight / np.sqrt(n_men),\n",
    "          mean_weight + t_90 * std_dev_weight / np.sqrt(n_men))\n",
    "\n",
    "print(f\"90% доверительный интервал для среднего веса мужчин: {ci_men}\")"
   ]
  },
  {
   "cell_type": "markdown",
   "id": "54c0835f-4477-4a4a-b468-fe669fe26e79",
   "metadata": {},
   "source": [
    "#### 4.В 2003 году Дартмутская Медицинская Школа запустила исследование для изучения связи между просмотром фильмов с курящими актёрами и началом курения среди подростков. В исследовании были случайным образом отобраны 6522 американских подростка в возрасте 10-14 лет, которые никогда не пробовали курить до этого. Из тех, кто впоследствии попробовал курить впервые, 38% сделали это из-за воздействия курения в фильмах. Оцените долю всех американских подростков в возрасте 10-14 лет, которые начали курить из-за просмотра курящих актеров в фильмах, построив 95% доверительный интервал."
   ]
  },
  {
   "cell_type": "code",
   "execution_count": 15,
   "id": "e0bf7c71-9cf9-4ecb-95f6-0d059dc899ee",
   "metadata": {},
   "outputs": [
    {
     "name": "stdout",
     "output_type": "stream",
     "text": [
      "95% доверительный интервал для доли подростков: (0.36821999874165273, 0.3917800012583473)\n"
     ]
    }
   ],
   "source": [
    "n_teens = 6522\n",
    "p_hat = 0.38\n",
    "z_95 = stats.norm.ppf(0.975)\n",
    "\n",
    "ci_teens = (p_hat - z_95 * np.sqrt(p_hat * (1 - p_hat) / n_teens),\n",
    "            p_hat + z_95 * np.sqrt(p_hat * (1 - p_hat) / n_teens))\n",
    "\n",
    "print(f\"95% доверительный интервал для доли подростков: {ci_teens}\")"
   ]
  },
  {
   "cell_type": "markdown",
   "id": "598663ae-80b2-4aa7-870d-506dc07d3006",
   "metadata": {},
   "source": [
    "#### 5.49 женщин, были выбраны случайным образом и их высота была измерена. Среднее значение выборки составило 164 см, стандартное отклонение - 20 см. Рассчитайте доверительный интервал для среднего значения популяции с 95%-м уровнем доверия"
   ]
  },
  {
   "cell_type": "code",
   "execution_count": 16,
   "id": "6cee56d2-c3c0-40f1-8366-3eee23d599b2",
   "metadata": {},
   "outputs": [
    {
     "name": "stdout",
     "output_type": "stream",
     "text": [
      "95% доверительный интервал для среднего роста женщин: (158.25532926393078, 169.74467073606922)\n"
     ]
    }
   ],
   "source": [
    "n_women = 49\n",
    "mean_height = 164\n",
    "std_dev_height = 20\n",
    "t_95 = stats.t.ppf(0.975, df=n_women-1) \n",
    "\n",
    "ci_women = (mean_height - t_95 * std_dev_height / np.sqrt(n_women),\n",
    "            mean_height + t_95 * std_dev_height / np.sqrt(n_women))\n",
    "\n",
    "print(f\"95% доверительный интервал для среднего роста женщин: {ci_women}\")"
   ]
  }
 ],
 "metadata": {
  "kernelspec": {
   "display_name": "Python 3 (ipykernel)",
   "language": "python",
   "name": "python3"
  },
  "language_info": {
   "codemirror_mode": {
    "name": "ipython",
    "version": 3
   },
   "file_extension": ".py",
   "mimetype": "text/x-python",
   "name": "python",
   "nbconvert_exporter": "python",
   "pygments_lexer": "ipython3",
   "version": "3.12.7"
  }
 },
 "nbformat": 4,
 "nbformat_minor": 5
}
